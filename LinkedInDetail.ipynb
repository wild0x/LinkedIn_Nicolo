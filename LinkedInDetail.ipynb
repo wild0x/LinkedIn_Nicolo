{
 "cells": [
  {
   "cell_type": "code",
   "execution_count": 42,
   "metadata": {
    "collapsed": true
   },
   "outputs": [],
   "source": [
    "#First install the Python Libraries as given below\n",
    "#pip install selenium\n",
    "#pip install beautifulsoup4\n",
    "\n",
    "from selenium import webdriver\n",
    "from bs4 import BeautifulSoup\n",
    "import time\n",
    "import pandas as pd"
   ]
  },
  {
   "cell_type": "code",
   "execution_count": 32,
   "metadata": {},
   "outputs": [],
   "source": [
    "#Download and Install the selenium webdriver\n",
    "#Give the path in executable_path where you have saved the file\n",
    "driver = webdriver.Chrome(executable_path='C:\\chromedriver_win32\\chromedriver.exe')\n",
    "\n",
    "#Open the link of the website\n",
    "driver.get(\"https://www.linkedin.com/\")\n",
    "\n",
    "#Maximize the window\n",
    "driver.maximize_window()\n",
    "time.sleep(2)\n",
    "\n",
    "##Automation \n",
    "email=driver.find_element_by_xpath('//*[@id=\"login-email\"]')\n",
    "email.send_keys(\"mps24.7uk@gmail.com \") # enter your  linkedIn username \n",
    "time.sleep(2)\n",
    "\n",
    "password=driver.find_element_by_xpath('//*[@id=\"login-password\"]')  \n",
    "password.send_keys(\" \")  # enter your linkedIn password\n",
    "time.sleep(2)\n",
    "\n",
    "login=driver.find_element_by_xpath('//*[@id=\"login-submit\"]')\n",
    "login.click()\n",
    "time.sleep(4)\n",
    "\n",
    "driver.get('https://www.linkedin.com/in/akshay-mankar-b63a66bb/') # Enter the User Link  you want to extract\n"
   ]
  },
  {
   "cell_type": "code",
   "execution_count": 34,
   "metadata": {
    "collapsed": true
   },
   "outputs": [],
   "source": [
    "#Extract the Html from the Page\n",
    "soup = BeautifulSoup(driver.page_source, 'lxml')\n",
    "div_whole_tag=soup.find('div',class_=\"pv-top-card-section__information mt3 ember-view\")"
   ]
  },
  {
   "cell_type": "code",
   "execution_count": 40,
   "metadata": {},
   "outputs": [
    {
     "name": "stdout",
     "output_type": "stream",
     "text": [
      "Akshay Mankar\n",
      " \n",
      "Machine Learning Engineer at Tagos Design Innovations Pvt. Ltd\n",
      " \n",
      "Tagos Design Innovations Pvt. Ltd\n",
      " \n",
      "Vellore Institute of Technology\n",
      " \n",
      "Bengaluru, Karnataka, India\n",
      " \n"
     ]
    }
   ],
   "source": [
    "list1=[]\n",
    "for h1 in div_whole_tag.find_all('h1'):\n",
    "    list1.append(h1.text)\n",
    "    #print(h1.text)\n",
    "    #print(\" \")\n",
    "\n",
    "for h2 in div_whole_tag.find_all('h2'):  \n",
    "    list1.append(h2.text.strip())\n",
    "    #print(h2.text.lstrip())\n",
    "    #print(\" \")\n",
    "    \n",
    "for h3 in div_whole_tag.find_all('h3')[:3]:\n",
    "    list1.append(h3.text.strip())\n",
    "    #print(h3.text.strip())\n",
    "    #print(\" \")"
   ]
  },
  {
   "cell_type": "code",
   "execution_count": 53,
   "metadata": {},
   "outputs": [
    {
     "data": {
      "text/plain": [
       "['Akshay Mankar',\n",
       " 'Machine Learning Engineer at Tagos Design Innovations Pvt. Ltd',\n",
       " 'Tagos Design Innovations Pvt. Ltd',\n",
       " 'Vellore Institute of Technology',\n",
       " 'Bengaluru, Karnataka, India']"
      ]
     },
     "execution_count": 53,
     "metadata": {},
     "output_type": "execute_result"
    }
   ],
   "source": [
    "list1"
   ]
  },
  {
   "cell_type": "code",
   "execution_count": 72,
   "metadata": {},
   "outputs": [],
   "source": [
    "#convert the list1 to dataframe\n",
    "LinkedInDetail=pd.DataFrame([list1],columns=['name','Job Profile','company','college','location'])"
   ]
  },
  {
   "cell_type": "code",
   "execution_count": 73,
   "metadata": {},
   "outputs": [
    {
     "data": {
      "text/html": [
       "<div>\n",
       "<style>\n",
       "    .dataframe thead tr:only-child th {\n",
       "        text-align: right;\n",
       "    }\n",
       "\n",
       "    .dataframe thead th {\n",
       "        text-align: left;\n",
       "    }\n",
       "\n",
       "    .dataframe tbody tr th {\n",
       "        vertical-align: top;\n",
       "    }\n",
       "</style>\n",
       "<table border=\"1\" class=\"dataframe\">\n",
       "  <thead>\n",
       "    <tr style=\"text-align: right;\">\n",
       "      <th></th>\n",
       "      <th>name</th>\n",
       "      <th>Job Profile</th>\n",
       "      <th>company</th>\n",
       "      <th>college</th>\n",
       "      <th>location</th>\n",
       "    </tr>\n",
       "  </thead>\n",
       "  <tbody>\n",
       "    <tr>\n",
       "      <th>0</th>\n",
       "      <td>Akshay Mankar</td>\n",
       "      <td>Machine Learning Engineer at Tagos Design Inno...</td>\n",
       "      <td>Tagos Design Innovations Pvt. Ltd</td>\n",
       "      <td>Vellore Institute of Technology</td>\n",
       "      <td>Bengaluru, Karnataka, India</td>\n",
       "    </tr>\n",
       "  </tbody>\n",
       "</table>\n",
       "</div>"
      ],
      "text/plain": [
       "            name                                        Job Profile  \\\n",
       "0  Akshay Mankar  Machine Learning Engineer at Tagos Design Inno...   \n",
       "\n",
       "                             company                          college  \\\n",
       "0  Tagos Design Innovations Pvt. Ltd  Vellore Institute of Technology   \n",
       "\n",
       "                      location  \n",
       "0  Bengaluru, Karnataka, India  "
      ]
     },
     "execution_count": 73,
     "metadata": {},
     "output_type": "execute_result"
    }
   ],
   "source": [
    "LinkedInDetail"
   ]
  },
  {
   "cell_type": "code",
   "execution_count": 74,
   "metadata": {
    "collapsed": true
   },
   "outputs": [],
   "source": [
    "#save the data frame into csv file\n",
    "\n",
    "LinkedInDetail.to_csv(\"LinkedIn_Detail_file.csv\", index=False)"
   ]
  }
 ],
 "metadata": {
  "kernelspec": {
   "display_name": "Python 3",
   "language": "python",
   "name": "python3"
  },
  "language_info": {
   "codemirror_mode": {
    "name": "ipython",
    "version": 3
   },
   "file_extension": ".py",
   "mimetype": "text/x-python",
   "name": "python",
   "nbconvert_exporter": "python",
   "pygments_lexer": "ipython3",
   "version": "3.6.2"
  }
 },
 "nbformat": 4,
 "nbformat_minor": 2
}
